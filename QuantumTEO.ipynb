{
 "cells": [
  {
   "cell_type": "code",
   "execution_count": null,
   "id": "fbc121e30a2defb3",
   "metadata": {
    "ExecuteTime": {
     "end_time": "2025-10-25T18:30:15.305382Z",
     "start_time": "2025-10-25T18:30:14.520640Z"
    }
   },
   "outputs": [],
   "source": [
    "import math\n",
    "\n",
    "from qiskit import QuantumCircuit, transpile, QuantumRegister, ClassicalRegister\n",
    "from qiskit.quantum_info import Statevector\n",
    "from qiskit.quantum_info.operators import Operator\n",
    "from qiskit.circuit.library import QFTGate\n",
    "from qiskit.circuit import ControlledGate\n",
    "from qiskit_aer import AerSimulator\n",
    "\n",
    "from qiskit.visualization import plot_histogram, plot_state_city\n",
    "import qiskit.quantum_info as qi\n",
    "from qiskit.quantum_info import random_statevector\n",
    "import cmath\n"
   ]
  },
  {
   "cell_type": "code",
   "execution_count": null,
   "id": "a4509c7a6a918f44",
   "metadata": {
    "ExecuteTime": {
     "end_time": "2025-10-25T18:30:15.518919Z",
     "start_time": "2025-10-25T18:30:15.478433Z"
    }
   },
   "outputs": [],
   "source": [
    "# System discretization\n",
    "n = 3 # number of qubits\n",
    "length = 5 # full length of x domain\n",
    "\n",
    "dt = 0.005\n",
    "\n",
    "# Potential/system parameters\n",
    "m = 1.0\n",
    "omega = 40.0\n",
    "\n",
    "N = 2**n # x samples (dimension of hilbert space)\n",
    "bounds = length / 2\n",
    "dx = length / N\n",
    "\n",
    "plength = 2 * cmath.pi / dx\n",
    "dp = plength / N\n",
    "\n",
    "alpha = dx\n",
    "beta = (-bounds + dx / 2) / (alpha * n) #see 10.1119/1.2894532\n",
    "gamma = m * omega**2 * alpha**2 / 2.0\n",
    "alphap = dp\n",
    "gammap = alphap**2 / (2.0 * m)\n"
   ]
  },
  {
   "cell_type": "code",
   "execution_count": null,
   "id": "6c75b8c4ba3cfa70",
   "metadata": {
    "ExecuteTime": {
     "end_time": "2025-10-25T00:39:44.025856Z",
     "start_time": "2025-10-25T00:39:44.013894Z"
    }
   },
   "outputs": [],
   "source": [
    "# Real time evolution e^iV(x) from a harmonic potential\n",
    "# n = number of qubits for state (0 = ancillary, 1 to n will be state qubits)\n",
    "# for gamma and beta, see DOI 10.1119/1.2894532\n",
    "def harmpot_rte(n, gamma, beta, dt):\n",
    "    gate = QuantumCircuit(n+1)\n",
    "\n",
    "    gate.p(-gamma * dt * (beta*n)**2, 0) # global phase shift, beta^2 are in all terms\n",
    "\n",
    "    for j in range(n):\n",
    "        for l in range(n):\n",
    "            if l == j:\n",
    "                gate.cp(-gamma * dt * (beta * (2**(l+1)) + 2**(l+j)), 0, l+1)\n",
    "            else:\n",
    "                gate.cp(-gamma * dt * beta * 2**l, 0, l+1)\n",
    "                gate.cp(-gamma * dt * beta * 2**j, 0, j+1)\n",
    "                gate.mcp(-gamma * dt * 2**(l + j), [0, l+1], j+1)\n",
    "\n",
    "    return gate"
   ]
  },
  {
   "cell_type": "code",
   "execution_count": null,
   "id": "1c625470b82a844a",
   "metadata": {
    "ExecuteTime": {
     "end_time": "2025-10-25T00:39:45.253708Z",
     "start_time": "2025-10-25T00:39:45.249118Z"
    }
   },
   "outputs": [],
   "source": [
    "# Real time evolution e^iT(p) for kinetic energy\n",
    "# n = number of qubits for state (0 = ancillary, 1 to n will be state qubits)\n",
    "# for gammap, see DOI 10.1119/1.2894532\n",
    "# gammap = dp^2/2m * dt\n",
    "def kinetic_rte(n, gammap, dt):\n",
    "    gate = QuantumCircuit(n+1)\n",
    "\n",
    "    for j in range(n):\n",
    "        for l in range(n):\n",
    "            sign = (-1 if (l == n-1) ^ (j == n-1) else 1)\n",
    "            exponent = sign * 2**(l+j)\n",
    "            if l == j:\n",
    "                gate.cp(-gammap * dt * exponent, 0, l+1)\n",
    "            else:\n",
    "                gate.mcp(-gammap * dt * exponent, [0, l+1], j+1)\n",
    "\n",
    "    return gate"
   ]
  },
  {
   "cell_type": "code",
   "execution_count": null,
   "id": "c90fd2c4969af86f",
   "metadata": {
    "ExecuteTime": {
     "end_time": "2025-10-25T00:38:44.781924Z",
     "start_time": "2025-10-25T00:38:44.777343Z"
    }
   },
   "outputs": [],
   "source": [
    "def harm_rte(n, gamma, beta, gammap, dt):\n",
    "    rte = QuantumCircuit(n+1)\n",
    "\n",
    "    # Construct real time evolution circuit\n",
    "    pot_rte = harmpot_rte(n, gamma, beta, dt)\n",
    "    ke_rte = kinetic_rte(n, gammap, dt)\n",
    "    qft = QFTGate(num_qubits=n)\n",
    "    iqft = qft.inverse()\n",
    "\n",
    "    rte.append(pot_rte, qargs=range(n+1))\n",
    "    rte.append(qft, qargs=range(1, n+1))\n",
    "    rte.append(ke_rte, qargs=range(n+1))\n",
    "    rte.append(iqft, qargs=range(1, n+1))\n",
    "\n",
    "    return rte"
   ]
  },
  {
   "cell_type": "code",
   "execution_count": null,
   "id": "66c1fc2d54b60964",
   "metadata": {
    "ExecuteTime": {
     "end_time": "2025-10-25T01:01:24.164547Z",
     "start_time": "2025-10-25T01:01:24.157316Z"
    }
   },
   "outputs": [],
   "source": [
    "init_state = []\n",
    "width = 0.3\n",
    "momentum = 10\n",
    "\n",
    "def itox(i):\n",
    "    return -length/2 + (i + 0.5)*dx\n",
    "\n",
    "for i in range(N):\n",
    "    init_state.append(0)\n",
    "    init_state.append(cmath.exp((1j*momentum*itox(i))-((itox(i)/width))**2.0))\n",
    "\n",
    "init_statevector = Statevector(init_state,\n",
    "                               tuple([2 for i in range(n+1)]))"
   ]
  },
  {
   "cell_type": "code",
   "execution_count": null,
   "id": "1f012375f6f2914d",
   "metadata": {
    "ExecuteTime": {
     "end_time": "2025-10-25T01:38:23.384368Z",
     "start_time": "2025-10-25T01:38:23.210409Z"
    }
   },
   "outputs": [],
   "source": [
    "from qiskit.circuit.library import UnitaryGate\n",
    "\n",
    "# ITE DOI:10.1103/PhysRevResearch.4.033121\n",
    "m0 = 0.5\n",
    "kappa = (m0 - 1/math.sqrt(2))\n",
    "kappa = kappa/abs(kappa)\n",
    "theta0 = kappa * math.acos((m0 + math.sqrt(1 - m0**2))/math.sqrt(2))\n",
    "s1 = m0 / math.sqrt(1 - m0**2)\n",
    "\n",
    "\n",
    "\n",
    "runcount = 10000\n",
    "s2 = math.sqrt(2)\n",
    "\n",
    "w = Operator([[1/s2, -1j/s2],\n",
    "             [1/s2, 1j/s2]])\n",
    "wgate = UnitaryGate(w)\n",
    "\n",
    "qb = QuantumRegister(n)\n",
    "ancillary = QuantumRegister(1)\n",
    "hadamard = ClassicalRegister(1)\n",
    "args = [ancillary[0]] + [qb[i] for i in range(n)]\n",
    "\n",
    "circ = QuantumCircuit(ancillary, qb, hadamard)\n",
    "\n",
    "#circ.initialize(init_statevector, normalize=True)\n",
    "rte = harm_rte(n, gamma, beta, gammap, dt*s1)\n",
    "#crte = rte.control(1)\n",
    "\n",
    "circ.h(ancillary[0])\n",
    "circ.append(wgate, ancillary)\n",
    "circ.x(ancillary)\n",
    "circ.append(rte, args)\n",
    "circ.x(ancillary)\n",
    "circ.append(rte.inverse(), args)\n",
    "circ.rz(-2*theta0, ancillary)\n",
    "circ.unitary(wgate.inverse(), ancillary)\n",
    "\n",
    "circ.measure(ancillary, hadamard)\n",
    "\n",
    "\n",
    "circ.save_statevector()\n",
    "print(circ.decompose().draw())\n",
    "\n",
    "#circ.h(ancillary[0])\n",
    "\n",
    "#for i in range(300):\n",
    "    #circ.append(rte, qargs=args)\n",
    "    #circ.save_statevector(label=str(i))\n",
    "\n",
    "# Transpile for simulator\n",
    "simulator = AerSimulator()\n",
    "circ = transpile(circ, simulator)\n",
    "\n",
    "# Run and get counts\n",
    "result = simulator.run(circ, shots=runcount).result()\n",
    "\n",
    "counts = result.get_counts(circ)\n",
    "plot_histogram(counts, title='Bell-State counts')\n",
    "# 3.51935513e-01-3.37845366e-02j\n"
   ]
  },
  {
   "cell_type": "code",
   "execution_count": null,
   "id": "aaecb833a2ce337",
   "metadata": {
    "ExecuteTime": {
     "end_time": "2025-10-25T01:19:18.123697Z",
     "start_time": "2025-10-25T01:19:18.118500Z"
    }
   },
   "outputs": [],
   "source": [
    "print(result.data(0)['statevector'])\n"
   ]
  },
  {
   "cell_type": "code",
   "execution_count": null,
   "id": "62069d7a8f103a",
   "metadata": {
    "ExecuteTime": {
     "end_time": "2025-10-25T00:58:33.024509Z",
     "start_time": "2025-10-25T00:58:32.662178Z"
    }
   },
   "outputs": [],
   "source": [
    "import matplotlib.pyplot as plt\n",
    "import matplotlib.animation as animation\n",
    "import numpy as np\n",
    "\n",
    "def getdata(i):\n",
    "    if i == 0:\n",
    "        return result.data(0)['statevector'].data[1::2]\n",
    "    else:\n",
    "        return result.data(0)[str(i-1)].data[1::2]\n",
    "\n",
    "\n",
    "xs = np.linspace((-length+dx)/2,(length-dx)/2,N,endpoint=True)\n",
    "#ps = np.linspace(0,plength,N,endpoint=False)\n",
    "\n",
    "fig, ax = plt.subplots()\n",
    "\n",
    "pspace = ax.plot(xs, getdata(0))[0]\n",
    "#pspacei = ax.plot(xs, getdata(0)*1j)[0]\n",
    "#potentialplot = ax.plot(xs, potentials)[0]\n",
    "ax.set(xlim=[-bounds,bounds])\n",
    "ax.set(ylim=[-0.5,0.5])\n",
    "\n",
    "def update(frame):\n",
    "    data = getdata(frame)\n",
    "    data_norm = [abs(datum) for datum in data]\n",
    "    pspace.set_ydata(data_norm)\n",
    "    #pspacei.set_ydata(getdata(frame)*1j)\n",
    "    return pspace\n",
    "\n",
    "ani = animation.FuncAnimation(fig=fig, func=update, frames=50, interval=1)\n",
    "ani.save('clungus.gif', dpi=80, writer='imagemagick')\n",
    "plt.show()\n"
   ]
  }
 ],
 "metadata": {
  "kernelspec": {
   "display_name": "Python 3",
   "language": "python",
   "name": "python3"
  },
  "language_info": {
   "codemirror_mode": {
    "name": "ipython",
    "version": 2
   },
   "file_extension": ".py",
   "mimetype": "text/x-python",
   "name": "python",
   "nbconvert_exporter": "python",
   "pygments_lexer": "ipython2",
   "version": "2.7.6"
  }
 },
 "nbformat": 4,
 "nbformat_minor": 5
}
