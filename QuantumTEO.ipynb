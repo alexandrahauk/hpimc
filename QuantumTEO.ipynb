{
 "cells": [
  {
   "cell_type": "code",
   "execution_count": null,
   "id": "fbc121e30a2defb3",
   "metadata": {
    "ExecuteTime": {
     "end_time": "2025-10-25T21:26:55.559805Z",
     "start_time": "2025-10-25T21:26:55.551209Z"
    }
   },
   "outputs": [],
   "source": [
    "import math\n",
    "\n",
    "from qiskit import QuantumCircuit, transpile, QuantumRegister, ClassicalRegister\n",
    "from qiskit.quantum_info import Statevector\n",
    "from qiskit.quantum_info.operators import Operator\n",
    "from qiskit.circuit.library import QFTGate, GlobalPhaseGate, UnitaryGate\n",
    "from qiskit.circuit import ControlledGate\n",
    "from qiskit_aer import AerSimulator\n",
    "\n",
    "from qiskit.visualization import plot_histogram, plot_state_city\n",
    "import qiskit.quantum_info as qi\n",
    "from qiskit.quantum_info import random_statevector\n",
    "import cmath\n"
   ]
  },
  {
   "cell_type": "code",
   "execution_count": null,
   "id": "bd0c8c84b747937e",
   "metadata": {
    "ExecuteTime": {
     "end_time": "2025-10-25T20:50:35.492211Z",
     "start_time": "2025-10-25T20:50:35.481391Z"
    }
   },
   "outputs": [],
   "source": [
    "# System discretization\n",
    "n = 3 # number of qubits\n",
    "length = 5 # full length of x domain\n",
    "\n",
    "dt = 0.000005\n",
    "\n",
    "# Potential/system parameters\n",
    "m = 1.0\n",
    "omega = 40.0\n",
    "\n",
    "N = 2**n # x samples (dimension of hilbert space)\n",
    "bounds = length / 2\n",
    "dx = length / N\n",
    "\n",
    "plength = 2 * cmath.pi / dx\n",
    "dp = plength / N\n",
    "\n",
    "alpha = dx\n",
    "beta = (-bounds + dx / 2) / (alpha * n) #see 10.1119/1.2894532\n",
    "gamma = m * omega**2 * alpha**2 / 2.0\n",
    "alphap = dp\n",
    "gammap = alphap**2 / (2.0 * m)\n"
   ]
  },
  {
   "cell_type": "code",
   "execution_count": null,
   "id": "bbc5e3fcc641d551",
   "metadata": {},
   "outputs": [],
   "source": []
  },
  {
   "cell_type": "code",
   "execution_count": null,
   "id": "3dc2b1e6f8a3e58a",
   "metadata": {
    "ExecuteTime": {
     "end_time": "2025-10-25T21:09:45.817639Z",
     "start_time": "2025-10-25T21:09:45.804158Z"
    }
   },
   "outputs": [],
   "source": [
    "# Real time evolution e^iV(x) from a harmonic potential\n",
    "# Returns a function pe(dt) that, when called, returns the PE RTE circuit as a function of dt\n",
    "# n = number of qubits for state (0 = ancillary, 1 to n will be state qubits)\n",
    "# for gamma and beta, see DOI 10.1119/1.2894532\n",
    "# TODO: add support for arbitrary polynomial potentials\n",
    "def harmpot_rte(n, gamma, beta):\n",
    "    def pe(dt):\n",
    "        gate = QuantumCircuit(n)\n",
    "\n",
    "        phase = GlobalPhaseGate(-gamma * dt * (beta*n)**2)\n",
    "        gate.append(phase)\n",
    "\n",
    "        for j in range(n):\n",
    "            for l in range(n):\n",
    "                if l == j:\n",
    "                    gate.p(-gamma * dt * (beta * (2**(l+1)) + 2**(l+j)), l)\n",
    "                else:\n",
    "                    gate.p(-gamma * dt * beta * 2**l, l)\n",
    "                    gate.p(-gamma * dt * beta * 2**j, j)\n",
    "                    gate.cp(-gamma * dt * 2**(l + j), l, j)\n",
    "        return gate\n",
    "\n",
    "    return pe\n",
    "\n",
    "# Real time evolution e^-idt*T(p) for kinetic energy,\n",
    "# Returns a function ke(dt) that, when called, returns the KE RTE circuit as a function of dt\n",
    "# n = number of qubits for state (0 = ancillary, 1 to n will be state qubits)\n",
    "# see DOI 10.1119/1.2894532\n",
    "# gammap = dp^2/2m\n",
    "def kinetic_rte(n, gammap):\n",
    "    def ke(dt):\n",
    "        gate = QuantumCircuit(n)\n",
    "\n",
    "        for j in range(n):\n",
    "            for l in range(n):\n",
    "                sign = (-1 if (l == n-1) ^ (j == n-1) else 1)\n",
    "                exponent = sign * 2**(l+j)\n",
    "                if l == j:\n",
    "                    gate.p(-gammap * dt * exponent, l)\n",
    "                else:\n",
    "                    gate.cp(-gammap * dt * exponent, l, j)\n",
    "        return gate\n",
    "\n",
    "    return ke"
   ]
  },
  {
   "cell_type": "code",
   "execution_count": null,
   "id": "543fb99ced302349",
   "metadata": {
    "ExecuteTime": {
     "end_time": "2025-10-25T20:23:38.514915Z",
     "start_time": "2025-10-25T20:23:38.506282Z"
    }
   },
   "outputs": [],
   "source": [
    "def harm_rte(n, gamma, beta, gammap):\n",
    "    def rte(dt):\n",
    "        rte = QuantumCircuit(n)\n",
    "\n",
    "        # Construct real time evolution circuit\n",
    "        pot_rte = harmpot_rte(n, gamma, beta)\n",
    "        ke_rte = kinetic_rte(n, gammap)\n",
    "        qft = QFTGate(num_qubits=n)\n",
    "        iqft = qft.inverse()\n",
    "\n",
    "        rte.append(pot_rte(dt), qargs=range(n))\n",
    "        rte.append(qft, qargs=range(n))\n",
    "        rte.append(ke_rte(dt), qargs=range(n))\n",
    "        rte.append(iqft, qargs=range(n))\n",
    "\n",
    "        return rte\n",
    "\n",
    "    return rte"
   ]
  },
  {
   "cell_type": "code",
   "execution_count": null,
   "id": "8c9710ed2e928a00",
   "metadata": {
    "ExecuteTime": {
     "end_time": "2025-10-25T22:05:51.777213Z",
     "start_time": "2025-10-25T22:05:51.762437Z"
    }
   },
   "outputs": [],
   "source": [
    "s2 = math.sqrt(2)\n",
    "w = Operator([[1/s2, -1j/s2],\n",
    "             [1/s2, 1j/s2]])\n",
    "wgate = UnitaryGate(w)\n",
    "\n",
    "# Probabilistic imaginary time evolution (PITE)\n",
    "# Returns a function ke(dt) that, when called, returns the ITE circuit as a function of dt (imaginary time)\n",
    "# rte(dt): A real time evolution wrapper\n",
    "# m0: real parameter, lower values = more accurate but lower probablilty of succerr\n",
    "def wrap_ite(n, rte, m0):\n",
    "    kappa = m0 - (1/math.sqrt(2))\n",
    "    kappa = kappa/abs(kappa)\n",
    "    theta0 = kappa * math.acos((m0 + math.sqrt(1 - m0**2))/math.sqrt(2))\n",
    "    s1 = m0 / math.sqrt(1 - m0**2)\n",
    "\n",
    "    def ite(dt):\n",
    "        ite = QuantumCircuit(n+1)\n",
    "        rte_step = rte(dt*s1)\n",
    "\n",
    "        ancillary = 0\n",
    "        args = range(n+1)\n",
    "\n",
    "        ite.h(ancillary) # H\n",
    "        ite.append(wgate, [ancillary]) # W\n",
    "        ite.append(rte_step.control(1, ctrl_state=0), args) # anticontrolled U_RTE\n",
    "        ite.append(rte_step.inverse().control(1), args) # controlled U_RTE^†\n",
    "        ite.rz(-2*theta0, ancillary) # Rz(-2theta_0)\n",
    "        ite.append(wgate.inverse(), [ancillary]) # W^†\n",
    "        return ite.decompose()\n",
    "\n",
    "\n",
    "    return ite\n"
   ]
  },
  {
   "cell_type": "code",
   "execution_count": null,
   "id": "70c982cbb5ffeaf2",
   "metadata": {
    "ExecuteTime": {
     "end_time": "2025-10-25T22:05:53.715495Z",
     "start_time": "2025-10-25T22:05:53.710840Z"
    }
   },
   "outputs": [],
   "source": [
    "init_state = []\n",
    "width = 0.3\n",
    "momentum = 10\n",
    "\n",
    "def itox(i):\n",
    "    return -length/2 + (i + 0.5)*dx\n",
    "\n",
    "for i in range(N):\n",
    "    init_state.append(0)\n",
    "    init_state.append(cmath.exp((1j*momentum*itox(i))-((itox(i)/width))**2.0))\n",
    "\n",
    "init_statevector = Statevector(init_state,\n",
    "                               tuple([2 for i in range(n+1)]))"
   ]
  },
  {
   "cell_type": "code",
   "execution_count": null,
   "id": "4a3fb3cf6264a094",
   "metadata": {
    "ExecuteTime": {
     "end_time": "2025-10-27T22:23:37.087774Z",
     "start_time": "2025-10-27T22:23:37.001275Z"
    }
   },
   "outputs": [],
   "source": [
    "print((counts['00']-counts['10'])/(counts['00']+counts['10']))\n",
    "print(result.data(0)['statevector'])\n"
   ]
  },
  {
   "cell_type": "code",
   "execution_count": null,
   "id": "ba1a8ba5f0fa2823",
   "metadata": {},
   "outputs": [],
   "source": []
  },
  {
   "cell_type": "code",
   "execution_count": null,
   "id": "62069d7a8f103a",
   "metadata": {
    "ExecuteTime": {
     "end_time": "2025-10-25T20:27:16.245455Z",
     "start_time": "2025-10-25T20:27:14.964014Z"
    }
   },
   "outputs": [],
   "source": [
    "import matplotlib.pyplot as plt\n",
    "import matplotlib.animation as animation\n",
    "import numpy as np\n",
    "\n",
    "def getdata(i):\n",
    "    if i == 0:\n",
    "        return result.data(0)['statevector'].data[1::2]\n",
    "    else:\n",
    "        return result.data(0)[str(i-1)].data[1::2]\n",
    "\n",
    "\n",
    "xs = np.linspace((-length+dx)/2,(length-dx)/2,N,endpoint=True)\n",
    "#ps = np.linspace(0,plength,N,endpoint=False)\n",
    "\n",
    "fig, ax = plt.subplots()\n",
    "\n",
    "pspace = ax.plot(xs, getdata(0))[0]\n",
    "#pspacei = ax.plot(xs, getdata(0)*1j)[0]\n",
    "#potentialplot = ax.plot(xs, potentials)[0]\n",
    "ax.set(xlim=[-bounds,bounds])\n",
    "ax.set(ylim=[-0.5,0.5])\n",
    "\n",
    "def update(frame):\n",
    "    data = getdata(frame)\n",
    "    data_norm = [abs(datum) for datum in data]\n",
    "    pspace.set_ydata(data_norm)\n",
    "    #pspacei.set_ydata(getdata(frame)*1j)\n",
    "    return pspace\n",
    "\n",
    "ani = animation.FuncAnimation(fig=fig, func=update, frames=50, interval=1)\n",
    "ani.save('clungus.gif', dpi=80, writer='imagemagick')\n",
    "plt.show()\n"
   ]
  }
 ],
 "metadata": {
  "kernelspec": {
   "display_name": "Python 3",
   "language": "python",
   "name": "python3"
  },
  "language_info": {
   "codemirror_mode": {
    "name": "ipython",
    "version": 2
   },
   "file_extension": ".py",
   "mimetype": "text/x-python",
   "name": "python",
   "nbconvert_exporter": "python",
   "pygments_lexer": "ipython2",
   "version": "2.7.6"
  }
 },
 "nbformat": 4,
 "nbformat_minor": 5
}
